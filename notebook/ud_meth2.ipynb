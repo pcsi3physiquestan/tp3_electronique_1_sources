{
 "cells": [
  {
   "cell_type": "code",
   "execution_count": 11,
   "id": "stainless-savannah",
   "metadata": {},
   "outputs": [
    {
     "name": "stdout",
     "output_type": "stream",
     "text": [
      "0.7877877877877878\n"
     ]
    }
   ],
   "source": [
    "\"\"\" On importe pour vous les bibliothèques scientifiques utiles.\"\"\"\n",
    "import numpy as np\n",
    "import matplotlib.pyplot as plt\n",
    "\n",
    "\"\"\"Entrer ci-dessous les quatre vecteurs numpy correspondant :\n",
    "- aux mesures de tensions\n",
    "- aux mesures d'intensité\n",
    "- aux estimations d'inceritude sur U (vous pouvez utiliser des variables intermédiaires et des opérations sur les vecteurs numpy)\n",
    "- aux estimations d'inceritude sur I (vous pouvez utiliser des variables intermédiaires et des opérations sur les vecteurs numpy)\n",
    "\"\"\"\n",
    "umax = np.array([-10.77, -6.871, -0.8418, 0.6576, 0.7396, 0.7822, 0.8683, 0.8179, 0.8613])\n",
    "umin = np.array([-10.769, -6.87, -0.8414, 0.6575, 0.7394, 0.7816, 0.8683, 0.8177, 0.8608])  # Valeurs de tensions\n",
    "imax = np.array([0, 0, 0, 2.243, 8.28, 14.349, 35.485, 21.513, 33.134])  # Valeurs de tensions\n",
    "imin = np.array([0.001, 0.001, 0.002, 2.244, 8.281, 14.352, 35.487, 21.515, 33.137, ])  # Valeurs de tensions\n",
    "\n",
    "u = (umax + umin) / 2  # Valeurs de tensions\n",
    "i = (imax + imin) / 2  # Valeurs d'intensité\n",
    "\n",
    "# Mettre ici vos intermédiaires de calcul pour les calculs d'incertitude.\n",
    "# NOTE : IL EST POSSIBLE QUE VOUS UTILISIEZ DES FORMULES\n",
    "\n",
    "uu = (umax - umin) / 2  # Incertitudes sur les tensions (ce sera un vecteur numpy)\n",
    "ui = (imax - imin) / 2  # Incertitudes sur les intensités (ce sera un vecteur numpy)\n",
    "\n",
    "\n",
    "def eval_ud(u, i):\n",
    "    N = 1000\n",
    "    n = len(u)\n",
    "    ud = np.linspace(0, 1, N)\n",
    "    dud = np.zeros(N)\n",
    "    for k in range(N):\n",
    "        ds = 0\n",
    "        for j in range(n):\n",
    "            d = min(abs(u[j]-ud[k]), i[j])\n",
    "            ds = ds + d ** 2\n",
    "        dud[k] = ds\n",
    "    return ud[np.argmin(dud)]\n",
    "\n",
    "print(eval_ud(u, i))"
   ]
  },
  {
   "cell_type": "code",
   "execution_count": null,
   "id": "established-array",
   "metadata": {},
   "outputs": [],
   "source": []
  }
 ],
 "metadata": {
  "kernelspec": {
   "display_name": "Python 3",
   "language": "python",
   "name": "python3"
  },
  "language_info": {
   "codemirror_mode": {
    "name": "ipython",
    "version": 3
   },
   "file_extension": ".py",
   "mimetype": "text/x-python",
   "name": "python",
   "nbconvert_exporter": "python",
   "pygments_lexer": "ipython3",
   "version": "3.9.2"
  }
 },
 "nbformat": 4,
 "nbformat_minor": 5
}
