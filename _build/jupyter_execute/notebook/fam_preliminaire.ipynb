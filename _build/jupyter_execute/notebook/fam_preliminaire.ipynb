{
 "cells": [
  {
   "cell_type": "markdown",
   "id": "6a91cb3b",
   "metadata": {},
   "source": [
    "Vous allez commencer par préparer la séance de familiarisation. L'étude préliminéaire est à réaliser par écrit au début du compte-rendu que vous rendrez à la fin des séances de TPs."
   ]
  },
  {
   "cell_type": "markdown",
   "id": "7e396543",
   "metadata": {},
   "source": [
    "# (Travail) Matériel en électrocinétique\n",
    "\n",
    "## Position du problème.\n",
    "\n",
    "On va se concentrer dans cette partie sur l'étude d'un dipôle en régime statique - on cherchera à tracer sa caractéristique statique - puis en régime dynamique - en traçant $(u(t); i(t))$. On pourra ainsi voir si son comportement est le même en régime indépendant du temps et en régime variable avant de l'utiliser dans des montages. Cette étude va amener à se poser plusieurs questions :\n",
    "* Quel instrument utiliser pour étudier un point de fonctionnement d'un dipôle en régime statique ? Comment le régler et l'utiliser ?\n",
    "* Quel instrument utiliser pour suivre l'évolution d'un point de fonctionnement d'un dipôle en régime dynamique ? Comment le régler et l'utiliser ?\n",
    "* Comment créer un signal de tension fixe pour étudier le régime statique d'un dipôle ?\n",
    "* Comment créer un signal de tension variable pour étudier le régime dynamique ? Comment régler la forme et les caractéristiques voulues pour le signal.\n",
    "* Quelles sont les contraintes liées à une acquisition numérique d'un signal ?"
   ]
  },
  {
   "cell_type": "markdown",
   "id": "c4a3d360",
   "metadata": {},
   "source": [
    "## Instrumentation électrique\n",
    "\n",
    "### Instrumentation diverse\n",
    "Sans être exhaustif, citons :\n",
    "* les câbles simples qui matérialisent un fil de connection.\n",
    "* les cables BNC qui contiennent __deux câbles__. A leur extrémité, soit les deux câbles sont séparés en deux branchements simples, soit un reste sur une connectique BNC et un branchement permet le raccordement __des deux bornes du dipôles__. C'est le cas des GBF et oscilloscope. En général, un des bornes est alors reliées à la Terre.\n",
    "* les plaquettes de montage. Certaines inclus un ALI ou un multiplieur\n",
    "* les composants R, L, C, Diode de valeur fixe.\n",
    "* les composants R, L, C, Diode de valeur réglable. On parle de __boite à décades__.\n",
    "\n",
    "````{attention} \n",
    "Les boites à décade ne peuvent être utilisées que comme un seul composant. __Vous ne pouvez utiliser la même boite pour créer deux composants.__\n",
    "````\n",
    "\n",
    "### Les câbles BNC\n",
    "#### Présentation et branchement\n",
    "````{margin}\n",
    "C'est le même principe sur les écouteurs et casque (prise Jack): un seul cable contenant 2 ou 3 fils.\n",
    "````\n",
    "Les câbles BNC sont des câbles particuliers car contrairement aux câbles simples, assimilables à des fils de connection, les câbles BNC contiennent __2 fils de connection__: un fil au milieu du câble (l'âme) et un tressage autour (la gaine), les deux fils étant isolés l'un de l'autre par un isolant plastique. Ces fils ont ne nombreux avantages en terme de proection du bruit. Leur utilisation est un peu particulière.\n",
    "\n",
    "````{margin}\n",
    "Il existe un autre type de BNC-simple où le câble se sépare en deux connections rouge et noire.\n",
    "````\n",
    "On distingue deux cas:\n",
    "* Les câbles dits BNC-BNC où les deux connection sont des entrées/sorties BNC (cas du haut). Elles servent principalement pour nous à relier directement le GBF et l'oscilloscope. __Comme sur la photo, un seul câble suffit brancher les DEUX bornes du GBF aux DEUX bornes de l'oscilloscope.__\n",
    "* Les câbles BNC-simples qui permettent de brancher un GBF/Oscilloscope sur un instruments ne possédant pas de voie BNC (_Résistance, condensateur, bobine, multimètre..._). Comme sur la figure du bas, le BNC est séparé en deux connectinos simples correspondant aux deux fils (et donc aux deux bornes du GBF/Oscilloscope).\n",
    "    * Sur le fil présenté, l'embout sortant métallique est relié à l'âme (flèche rouge) et l'orifice dans l'excroissance (flèche verte) est reliée à la gaine. Il faut alors brancher un fil noir sur la gaine et on obtient deux connection à brancher dans le circuit.\n",
    "\n",
    "```{figure} ./images/branchement_bnc.png\n",
    ":name: branch_bnc\n",
    ":align: center\n",
    "Types de branchement des BNC\n",
    "```\n",
    "\n",
    "#### BNC et Terre\n",
    "__La majorité des GBF et oscilloscopes possèdent une de leur borne reliée à la Terre.__\n",
    "\n",
    "````{margin}\n",
    "Ou la connectique noire pour les câbles séparés en rouge et noir.\n",
    "````\n",
    "Lorsqu'on branche un BNC-simple, il est important de savoir où elle se trouve car on va imposer un point de Terre dans le circuit. __La borne de Terre est toujours reliée à la gaine du BNC (branché à un GBF ou un oscilloscope) soit en sortie d'un BNC-simple l'excroissance du câble.__\n",
    "\n",
    "```{attention} Unicité de la Terre\n",
    "La borne de Terre est une borne physique dont le potentiel est imposé. Il ne peut donc y en avoir qu'une seule dans un circuit. __CELA SIGNIFIE que toutes les bornes de Terre des GBF et oscilloscope doivent être reliés _au même point de potentiel dans un circuit_.__ Cela peut entrainer des contraintes dans la réalisation d'un circuit.\n",
    "```\n",
    "\n",
    "### Créer un signal électrique.\n",
    "On distingue trois types de sources :\n",
    "* Les alimentations stabilisées. Elles permettent de créer une tension continue et délivrer une puissance assez importante. On les utilisera peu et le cas échéant, leur fonctionnement sera précisé.\n",
    "```{margin} On remarquera que le constructeur nous impose alors le choix du point de masse```\n",
    "* Les _alimentations symétriques_. Elles sont constituées de _trois_ branchements correspondant à des potentiels : $-15V, 0V, 15V$. On les utilise surtout pour alimenter les ALI (les 3 bornes sont alors à brancher).\n",
    "* Les __générateurs basse fréquence__. Ils permettent de générer des signaux de forment varier (possiblement continu mais aussi sinusoïdaux, créneaux ou plus complexe). Ils seront très utilisés et on va s'attarder sur leurs réglages."
   ]
  },
  {
   "cell_type": "markdown",
   "id": "fdb0c8b2",
   "metadata": {},
   "source": [
    "#### Le GBF : Etapes de réglage\n",
    "```{attention}\n",
    "Avant de commencer à toucher aux boutons du GBF, il est __obligatoire__ de réfléchir aux caractéristiques du signal qu'on veut déliver...\n",
    "```\n",
    "\n",
    "La présentation du premier GBF utilisé et le protocole de réglage est présenté [ici](https://github.com/pcsi3physiquestan/donnees_exp/blob/main/poster_gbf.pdf?raw=true). Attention, le protocole est __général__ mais les boutons sont spécifiques au GBF présenté."
   ]
  },
  {
   "cell_type": "markdown",
   "id": "72f145b0",
   "metadata": {},
   "source": [
    "### Mesurer une valeur unique : le multimètre\n",
    "\n",
    "Un multimètre renvoie une valeur correspondant au type de mesure qu'on veut réaliser :\n",
    "* ampèremètre : pour mesurer un courant\n",
    "* voltmètre : pour mesurer une tension\n",
    "* ohmètre : pour mesurer une résistance"
   ]
  },
  {
   "cell_type": "markdown",
   "id": "8e2cc018",
   "metadata": {},
   "source": [
    "#### Ampèremètre et voltmètre\n",
    "On rappelle :\n",
    "* qu'un ampèremètre doit être _branché en série_ avec le dipôle dont on veut mesurer l'intensité qui le traverse.\n",
    "* qu'un voltmètre doit être _branché en parallèle_ du dipôle dont on veut mesurer la tension à ses bornes.\n",
    "* que dans les deux cas, la mesure est polarisée. La bornes `COM` correspond à la borne `-` des représentations : la queue de la flèche de tension (voltmètre) ou la sortie du dipôle en terme d'intensité (ampèremètre).\n",
    "* que l'autre branchement est en général différent pour l'ampèremètre et le voltmètre."
   ]
  },
  {
   "cell_type": "markdown",
   "id": "18ee3b9c",
   "metadata": {},
   "source": [
    "#### Calibre AC et DC\n",
    "```{important}\n",
    "* Le calibre DC permet de mesurer la valeur moyenne d'un signal.\n",
    "* Le calibre AC permet de mesurer la valeur efficace d'un signal.\n",
    "```\n",
    "\n",
    "Ces calibres sont parfois représentés pas un `~` (AC) ou un `=` (DC, le trait inférieur peut-être en pointillés).\n",
    "\n",
    "```{admonition} Exercice: quel calibre ?\n",
    ":class: tip\n",
    "1. On veut étudier le point de fonctionnement de la diode en régime indépendant du temps.\n",
    "    1. Pour une tension continue de valeur $U_0$. Que vaut sa valeur moyenne ?\n",
    "    2. Pour une tension continue de valeur $U_0$. Que vaut sa valeur efficace ?\n",
    "    3. Vaut-il mieux régler le multimètre en DC ou en AC ?\n",
    "2. On veut étudier le gain entrée/sortie d'un système électrique en régime sinusoïdal.\n",
    "    1. Pour une tension sinusoïdal d'amplitude $U_m$. Que vaut sa valeur moyenne ?\n",
    "    2. Pour une tension sinusoïdal d'amplitude $U_m$. Que vaut sa valeur efficace ?\n",
    "    3. Vaut-il mieux régler le multimètre sur DC ou AC pour mesurer le rapport des amplitudes de deux tensions sinusoidales ?\n",
    "```\n",
    "\n",
    "\n",
    "#### Incertitudes et multimètre\n",
    "Une présentation des sources d'incertitude avec les multimètre est données [ici](https://moodlecpge.stanislas.fr/mod/page/view.php?id=44)."
   ]
  },
  {
   "cell_type": "markdown",
   "id": "714547ba",
   "metadata": {},
   "source": [
    "### Suivre l'évolution d'un signal : la carte d'acquisition\n",
    "\n",
    "Une carte d'acquisition est un dispositif permettant de mesurer des __tensions__ et envoyer des mesures à intervalles régulières à un ordinateur. Une logiciel récupère alors les données et affiche l'allure des signaux. L'interface graphique du logiciel (ici `Atelier scientifique`) permet de régler les paramètres d'acquisition de la carte pour obtenir les données voulues. L'affichage d'un suivi nécessite en effet un paramétrage adapté :\n",
    "* l'acquisition doit suivre le signal voulu.\n",
    "* l'acquisition doit démarrer au bon moment (crucial si le signal n'est pas périodique).\n",
    "* l'acquisition doit durer un temps suffisant pour observer le phénomène voulu. Elle doit aussi ne pas être trop longue pour ne pas \"écraser\" l'observation du phénomène par des données inutiles.\n",
    "* les mesures ne doivent pas \"saturer\"(en général, la carte est réglée pour mesurer des tensions entre 2 valeurs extrêmes)\n",
    "* le nombre de points (d'échantillons) doit être suffisant pour pouvoir suivre les variations du signal."
   ]
  },
  {
   "cell_type": "markdown",
   "id": "9f8db6c1",
   "metadata": {},
   "source": [
    "#### Réglage des cartes d'acquisition\n",
    "\n",
    "_Affichez les étapes de réglages grâce à la croix à droite._\n",
    "\n",
    "\n",
    "````{toggle}\n",
    "On se base sur la carte FOXY utilisée au laboratoire.\n",
    "1. Alimenter la carte et la brancher (USB) à l'ordinateur. Une interface se lance automatiquement. Choisir __Généraliste__.\n",
    "2. Réaliser les branchements au circuit.\n",
    "3. Choisir `Acquisition` dans les menus. Une fenêtre s'affiche à gauche pour les réglages.\n",
    "4. __Choisir la(les) voie(s) à étudier.__ Elles sont représentées par ![Image voie](./images/as_voies.png). Un glisser-déplacer vers l'axe des ordonnées du graphique pour choisir d'acquérir la voie voulue.\n",
    "5. __Régler les paramètres de chaque voie__ En cliquant sur la voie choisie, un menu avec des onglets s'affiche. Visiter les onglets pour modifier les réglages. Le réglage __indispensable__ est le __calibre__. Le reste correspond à des réglages de forme.\n",
    "6. __Choisir une abscisse temporelle__ Faire un glisser-déplacer de l'horloge vers l'axe des abscisses.\n",
    "\n",
    "```{margin}\n",
    "Même si vous compter plus tard mettre en abscisses une autre grandeur (pour avoir $(u(t), i(t))$ par exemple), choisissez TOUJOURS le temps en abscisses pour pouvoir régler les paramètres d'acquisition.\n",
    "```\n",
    "\n",
    "7. __Régler les paramètres temporels.__ Il faut avoir réfléchi au phénomène que vous voulez observer. Il faut circuler dans les onglets généralement.\n",
    "    1. __Durée d'acquisition__.\n",
    "    2. __Nombre de points__ On reviendra sur cette notion plus tard. Par défaut, le choisir au maximum (16000 points) _en pensant à sauvegarder régulièrement._\n",
    "    3. __Acquisition continue__. Il est souvent préférable de l'activer mais vous devrez déciser sur vous voulez une acquisition unique ou rafraichier régulièrement l'acquisition du signal.\n",
    "    4. __Synchronisation__ Elle est indispensable en acquisition continue et vivement conseillée en acquisition unique. On précisera en TP son utilité.\n",
    "    5. __Voie (pour la synchronisation), Valeur, Pente__ cf. TP\n",
    "8. Lancer l'acquisition (bouton vert).\n",
    "````"
   ]
  },
  {
   "cell_type": "markdown",
   "id": "fc2ba780",
   "metadata": {},
   "source": [
    "#### Choix des paramètres\n",
    "\n",
    "```{admonition} Exercice : Paramètres d'acquisition\n",
    ":class: tip\n",
    "\n",
    "Par la suite, on voudra tester le comportement de la diode pour différents types de signaux :\n",
    "1. Un signal sinusoïdale de fréquence 1kHz, d’amplitude 10V et de valeur moyenne nulle\n",
    "2. Un signal sinusoïdale de fréquence 20kHz, d’amplitude 3V et de valeur moyenne 1V\n",
    "3. Un signal triangulaire de fréquence 3kHz, d’amplitude 3V, de valeur basse -2V\n",
    "4. Un signal créneau de fréquence 500Hz, d’amplitude 8V et de valeur moyenne nulle\n",
    "5. Un signal créneau de fréquence 30kHz, de valeur basse 0V et de valeur haute 6V.\n",
    "6. Un signal modulé en amplitude $s = k v \\times e$ avec e$,$ un signal sinusoïdal de fréquence 10kHz et d'amplitude 4V et $v$ un signal sinusoïdal de fréquence 500Hz et d'amplitude 4V. On donne $k = 0.1$.\n",
    "\n",
    "On veut observer le signal délivré par le GBF dans chaque cas, on a brancher le GBF en parallèle de la voie 1 de la carte FOXY. Par chaque signal, préciser :\n",
    "* le calibre de la voie 1 choisi\n",
    "* la durée d'acquisition choisie\n",
    "\n",
    "Note : Les calibres possibles sont `-0.25V/+0.25V`, `-5V/+5V`, `-15V/+15V`, `-30V/+30V`\n",
    "```"
   ]
  },
  {
   "cell_type": "markdown",
   "id": "79aa5188",
   "metadata": {},
   "source": [
    "### Suivre l'évolution d'un signal : l'oscilloscope\n",
    "Un oscilloscope est un instrument de suivi temporel de tension. Il embarque le système de mesure et l'affichage. Il existe deux types d'oscilloscopes : les oscilloscopes analogiques (la trace est obtenue par déviation d'un faisceau d'électron) et les oscilloscopes numériques (un écran - généralement LCD - affiche les données mesurées après traitement numérique). On travaillera principalement sur le second type d'oscilloscope.\n",
    "\n",
    "```{margin}\n",
    "Il existe aussi des oscilloscopes hybride analogique-numérique permettant de passer d'un fonctionnement à l'autre.\n",
    "```\n",
    "\n",
    "Le principe de réglage est à peu près le même que pour la carte d'acquisition à ceci près qu'on ne règle pas le nombre de points de mesure. La différence réside dans la position des boutons de réglages.\n",
    "\n",
    "```{attention}\n",
    "Un oscilloscope affiche sans s'arrêter ce qu'il est en train d'acquérir. Il peut alors être tentant de régler l'oscilloscope \"au visuel\" en se basant sur l'allure du signal observé. __Ne le faites pas !__ car c'est souvent une source d'erreur (on croit avoir bien l'oscilloscope alors que non).\n",
    "\n",
    "Il faut toujours __prévoir la durée d'acquisition nécessaire__ et le __calibre vertical adpaté__ __en fonction du phénomène qu'on veut observer.__\n",
    "\n",
    "_On ne réglera visuellement le signal que dans un second temps quand on a déjà un signal à peu près propre (affiner la qualité d'affichage)._\n",
    "```"
   ]
  },
  {
   "cell_type": "markdown",
   "id": "24030653",
   "metadata": {},
   "source": [
    "#### Etapes de réglages.\n",
    "La vidéo ci-après présente les boutons pour le FI32052 utilisé en TP et un poster regroupant la méthode de mesure est donné [ici](https://github.com/pcsi3physiquestan/donnees_exp/blob/main/poster_oscillo.pdf?raw=true).\n",
    "\n",
    "Observer la vidéo ci-dessous pour voir les étapes de réglages."
   ]
  },
  {
   "cell_type": "code",
   "execution_count": 1,
   "id": "ed3d076e",
   "metadata": {
    "tags": [
     "remove-input"
    ]
   },
   "outputs": [
    {
     "data": {
      "text/html": [
       "<video src=\"https://github.com/pcsi3physiquestan/videos_physique/blob/main/instrument_oscilloscope.mp4?raw=true\" controls  width=\"640\" >\n",
       "      Your browser does not support the <code>video</code> element.\n",
       "    </video>"
      ],
      "text/plain": [
       "<IPython.core.display.Video object>"
      ]
     },
     "execution_count": 1,
     "metadata": {},
     "output_type": "execute_result"
    }
   ],
   "source": [
    "from IPython.display import Video\n",
    "Video(\"https://github.com/pcsi3physiquestan/videos_physique/blob/main/instrument_oscilloscope.mp4?raw=true\", width=640)"
   ]
  }
 ],
 "metadata": {
  "jupytext": {
   "encoding": "# -*- coding: utf-8 -*-",
   "formats": "ipynb,md:myst",
   "split_at_heading": true,
   "text_representation": {
    "extension": ".md",
    "format_name": "myst",
    "format_version": 0.13,
    "jupytext_version": "1.10.3"
   }
  },
  "kernelspec": {
   "display_name": "Python 3",
   "language": "python",
   "name": "python3"
  },
  "language_info": {
   "codemirror_mode": {
    "name": "ipython",
    "version": 3
   },
   "file_extension": ".py",
   "mimetype": "text/x-python",
   "name": "python",
   "nbconvert_exporter": "python",
   "pygments_lexer": "ipython3",
   "version": "3.11.5"
  },
  "source_map": [
   15,
   19,
   33,
   89,
   98,
   107,
   116,
   141,
   152,
   181,
   203,
   222,
   229
  ]
 },
 "nbformat": 4,
 "nbformat_minor": 5
}