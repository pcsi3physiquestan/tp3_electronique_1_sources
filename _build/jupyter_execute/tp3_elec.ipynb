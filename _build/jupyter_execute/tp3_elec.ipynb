{
 "cells": [
  {
   "cell_type": "markdown",
   "id": "aboriginal-basic",
   "metadata": {},
   "source": [
    "# Introduction\n",
    "\n",
    "Le premier TP d'électrocinétique sera divisé en trois séances. Le travail se décompose en :\n",
    "* __[Familiarisation avec le matériel]__ : Vous allez commencer par apprendre à vous familiariser avec le matériel et les méthodes expérimentales à travers de la caractéristique statique puis dynamique d'un dipôle non linéaire (une diode). Cette étude, utile pour la suite, vous entraînera à réaliser des circuits électriques, faire des mesures avec un multimètre, une carte d'acquisition ou avec un oscilloscope et créer un signal de forme voulu avec un générateur basse-fréquence. Une __[étude préliminaire](./notebook/fam_preliminaire.ipynb)__ devra être réalisée avant le TP.\n",
    "* __[Création d'un signal modulé]__ : Vous allez ensuite chercher à créer un signal modulé en amplitude. On apprendra ainsi à manipuler différents signaux ainsi qu'à mettre en cascade différents étages de traitement. La question des impédances d'entrée et de sortie seront alors abordées. Une __[étude préliminaire](./notebook/modul_preliminaire.ipynb)__ devra être réalisée avant le TP.\n",
    "* __[Démodulation ]__ : Une fois le signal modulé créé, vous chercherez à démoduler ce signal de deux manières. La première utilisera la diode étudiée précédemment dans un _détecteur de crête_ et la seconde utilisera un système de filtrage (_démodulation synchrone_). On étudiera ainsi un régime transitoire et une réponse fréquentielle pour l'appliquer à la démodulation. Une __[étude préliminaire](./notebook/demod_preliminaire.ipynb)__ devra être réalisée avant le TP.\n",
    "* __[Travail supplémentaire]__ : Si le temps le permet, vous essaierez de réinvestir ce que vous avez appris en TP et en cours pour étudier un système d'ordre 2.\n",
    "\n",
    "Le compte-rendu du TP sera __manuscrit ou tapé (mais imprimé)__ et devra être rendu à la fin de la troisième séance. Un notebook sera utilisé pour l'étude complète et devra être rendu sur le site en plus du compte-rendu."
   ]
  }
 ],
 "metadata": {
  "jupytext": {
   "encoding": "# -*- coding: utf-8 -*-",
   "formats": "ipynb,md:myst",
   "split_at_heading": true,
   "text_representation": {
    "extension": ".md",
    "format_name": "myst",
    "format_version": 0.13,
    "jupytext_version": "1.10.3"
   }
  },
  "kernelspec": {
   "display_name": "Python 3",
   "language": "python",
   "name": "python3"
  },
  "language_info": {
   "codemirror_mode": {
    "name": "ipython",
    "version": 3
   },
   "file_extension": ".py",
   "mimetype": "text/x-python",
   "name": "python",
   "nbconvert_exporter": "python",
   "pygments_lexer": "ipython3",
   "version": "3.9.2"
  },
  "source_map": [
   15
  ]
 },
 "nbformat": 4,
 "nbformat_minor": 5
}