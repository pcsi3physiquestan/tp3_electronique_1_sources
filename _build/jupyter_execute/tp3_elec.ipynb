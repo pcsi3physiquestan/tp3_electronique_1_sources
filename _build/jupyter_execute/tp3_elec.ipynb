{
 "cells": [
  {
   "cell_type": "markdown",
   "id": "cf80a737",
   "metadata": {},
   "source": [
    "# Introduction\n",
    "\n",
    "Le premier TP d'électrocinétique sera divisé en trois séances. Le travail se décompose en :\n",
    "* __[Familiarisation avec le matériel]__ : Vous allez commencer par apprendre à vous familiariser avec le matériel et les méthodes expérimentales à travers de la caractéristique statique puis dynamique d'un dipôle non linéaire (une diode). Cette étude, utile pour la suite, vous entraînera à réaliser des circuits électriques, faire des mesures avec un multimètre, une carte d'acquisition ou avec un oscilloscope et créer un signal de forme voulu avec un générateur basse-fréquence. Une __[étude préliminaire](./notebook/fam_preliminaire.ipynb)__ devra être réalisée avant le TP.\n",
    "* __[Création d'un signal modulé]__ : Vous allez ensuite chercher à créer un signal modulé en amplitude. On apprendra ainsi à manipuler différents signaux ainsi qu'à mettre en cascade différents étages de traitement. La question des impédances d'entrée et de sortie seront alors abordées. Une __[étude préliminaire](./notebook/modul_preliminaire.ipynb)__ devra être réalisée avant le TP.\n",
    "* __[Démodulation ]__ : Une fois le signal modulé créé, vous chercherez à démoduler ce signal de deux manières. La première utilisera la diode étudiée précédemment dans un _détecteur de crête_ et la seconde utilisera un système de filtrage (_démodulation synchrone_). On étudiera ainsi un régime transitoire et une réponse fréquentielle pour l'appliquer à la démodulation. Une __[étude préliminaire](./notebook/demod_preliminaire.ipynb)__ devra être réalisée avant le TP.\n",
    "* __[Travail supplémentaire]__ : Si le temps le permet, vous essaierez de réinvestir ce que vous avez appris en TP et en cours pour étudier un système d'ordre 2.\n",
    "\n",
    "Le compte-rendu du TP sera __manuscrit ou tapé (mais imprimé)__ et devra être rendu à la fin de la troisième séance. Un notebook sera utilisé pour l'étude complète et devra être rendu sur le site en plus du compte-rendu.\n",
    "\n",
    "__Compétences mises en jeu :__\n",
    "\n",
    "_Familiarisation (Plusieurs compétences mises en jeu seront réutilisées dans les autres TPs)_\n",
    "\n",
    "| Compétences | Je sais de quoi ça parle | Je peux explier la méthode | Je sais l'appliquer |\n",
    "|:------------| :-:|:-:|:-:|\n",
    "|Choisir de façon cohérente la fréquence d’échantillonnage et la durée totale d’acquisition.||||\n",
    "|Mesurer une tension à l'aide d'un multimètre ou un oscilloscope.||||\n",
    "|Mesurer une intensité à l'aide d'un multimètre ou indirectement grâce à un oscilloscope.||||\n",
    "|Visualiser la caractéristique d’un dipôle à l’aide d’un oscilloscope numérique ou d’une carte d’acquisition||||\n",
    "|Obtenir un signal de valeur moyenne, de forme, d’amplitude et de fréquence données.||||\n",
    "|Évaluer expérimentalement une résistance d’entrée ou de sortie.||||\n",
    "|Repérer l’influence des résistances d’entrée ou de sortie sur le signal délivré par un GBF||||\n",
    "\n",
    "_Modulation_\n",
    "\n",
    "| Compétences | Je sais de quoi ça parle | Je peux explier la méthode | Je sais l'appliquer |\n",
    "|:------------| :-:|:-:|:-:|\n",
    "|Différencier masse et terre.||||\n",
    "|Utiliser correctement un cable coaxial.||||\n",
    "|Créer et régler un signal modulé en amplitude à partir d'un GBF.||||\n",
    "|Gérer, dans un circuit électronique, les contraintes liées à la liaison entre les masses.||||\n",
    "|Associer les fonctions de base de l'électronique pour réaliser une fonction complexe en gérant les contraintes liées aux impédances d’entrée et/ou de sortie des blocs.||||\n",
    "|Repérer le caractère non linéaire d'un système grâce aux spectres des signaux entrée/sortie.||||\n",
    "\n",
    "\n",
    "_Démodulation_\n",
    "\n",
    "| Compétences | Je sais de quoi ça parle | Je peux explier la méthode | Je sais l'appliquer |\n",
    "|:------------| :-:|:-:|:-:|\n",
    "|Réaliser l’acquisition unique d’un régime transitoire pour un circuit linéaire du premier ordre et analyser ses caractéristiques.||||\n",
    "|Réaliser l’acquisition répétée d’un régime transitoire pour un circuit linéaire du premier ordre et analyser ses caractéristiques.||||\n",
    "|Mettre en œuvre une méthode directe ou indirecte de mesure de fréquence ou de période.||||\n",
    "|Reconnaître une avance ou un retard de phase.||||\n",
    "|Passer d’un décalage temporel à un déphasage et inversement.||||\n",
    "|Repérer précisément le passage par un déphasage de 0 ou $\\pi$en mode XY.||||\n",
    "|Faire l'étude fréquentielle d'un filtre linéaire.||||\n",
    "|Réaliser une détection synchrone.||||"
   ]
  }
 ],
 "metadata": {
  "jupytext": {
   "encoding": "# -*- coding: utf-8 -*-",
   "formats": "ipynb,md:myst",
   "split_at_heading": true,
   "text_representation": {
    "extension": ".md",
    "format_name": "myst",
    "format_version": 0.13,
    "jupytext_version": "1.10.3"
   }
  },
  "kernelspec": {
   "display_name": "Python 3",
   "language": "python",
   "name": "python3"
  },
  "language_info": {
   "codemirror_mode": {
    "name": "ipython",
    "version": 3
   },
   "file_extension": ".py",
   "mimetype": "text/x-python",
   "name": "python",
   "nbconvert_exporter": "python",
   "pygments_lexer": "ipython3",
   "version": "3.9.15"
  },
  "source_map": [
   15
  ]
 },
 "nbformat": 4,
 "nbformat_minor": 5
}